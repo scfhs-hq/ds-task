{
 "cells": [
  {
   "cell_type": "code",
   "execution_count": 1,
   "metadata": {
    "collapsed": true
   },
   "outputs": [],
   "source": [
    "# url = 'http://download.animerulezzz.org:8080/dl/AnimeManga/One%20Piece/Series/One%20Piece%20-%20127%20-%20All%20the%20King%27s%20Men.avi'\n",
    "# video_name = url.split('/')[-1]\n",
    " \n",
    "# # using requests\n",
    " \n",
    "# # imported the requests library\n",
    "# import requests\n",
    " \n",
    "# print (\"Downloading file:%s\" % video_name)\n",
    " \n",
    "# # download the url contents in binary format\n",
    "# r = requests.get(url)\n",
    "\n",
    "# # open method to open a file on your system and write the contents\n",
    "# with open('tutorial.avi', 'wb') as f:\n",
    "#     f.write(r.content)\n",
    " \n",
    " \n",
    "# # using urllib\n",
    " \n",
    "# # imported the urllib library\n",
    "# import urllib\n",
    "# print (\"Downloading file:%s\" % video_name)\n",
    " \n",
    "# # Copy a network object to a local file\n",
    "# urllib.request.urlretrieve(url, \"tutorial2.avi\")"
   ]
  },
  {
   "cell_type": "code",
   "execution_count": 2,
   "metadata": {
    "collapsed": true
   },
   "outputs": [],
   "source": [
    "# import urllib2\n",
    "# dwn_link = 'https://www.youtube.com/watch?v=S8RGEeDFSiM'\n",
    "\n",
    "# file_name = 'trial_video.mp4' \n",
    "# rsp = urllib2.urlopen(dwn_link)\n",
    "# with open(file_name,'wb') as f:\n",
    "#     f.write(rsp.read())"
   ]
  },
  {
   "cell_type": "code",
   "execution_count": 3,
   "metadata": {
    "collapsed": true
   },
   "outputs": [],
   "source": [
    "# import requests\n",
    "# from bs4 import BeautifulSoup\n"
   ]
  },
  {
   "cell_type": "code",
   "execution_count": 4,
   "metadata": {
    "collapsed": true
   },
   "outputs": [],
   "source": [
    "# html = \"http://animerulezzz.org/?ttl=&t=Download/view&p=AnimeManga/One%20Piece/Series&lang=en\"\n",
    "# response = requests.get(html)\n",
    "\n",
    "# # You can use status codes to understand how the target server responds to your request.\n",
    "# # Ex., 200 = OK, 400 = Bad Request, 403 = Forbidden, 404 = Not Found.\n",
    "# print(response.status_code)"
   ]
  },
  {
   "cell_type": "code",
   "execution_count": 5,
   "metadata": {
    "collapsed": true
   },
   "outputs": [],
   "source": [
    "# soup = BeautifulSoup(url, 'lxml')\n"
   ]
  },
  {
   "cell_type": "code",
   "execution_count": 6,
   "metadata": {
    "collapsed": true
   },
   "outputs": [],
   "source": [
    "# soup.extract()"
   ]
  },
  {
   "cell_type": "code",
   "execution_count": 7,
   "metadata": {
    "collapsed": true
   },
   "outputs": [],
   "source": [
    "\n",
    "\n",
    "# print(soup.title)\n",
    "# print(soup.title.text)\n",
    "\n"
   ]
  },
  {
   "cell_type": "code",
   "execution_count": 8,
   "metadata": {
    "collapsed": true
   },
   "outputs": [],
   "source": [
    "# results_list = []\n",
    "\n",
    "# # Get all the <td class=\"ld\"... elements\n",
    "# all_td = soup.find_all('td', {'class':'dl'})"
   ]
  },
  {
   "cell_type": "code",
   "execution_count": 2,
   "metadata": {
    "collapsed": true
   },
   "outputs": [],
   "source": [
    "# len(all_td)"
   ]
  },
  {
   "cell_type": "code",
   "execution_count": 10,
   "metadata": {
    "collapsed": true
   },
   "outputs": [],
   "source": [
    "# for element in all_td:\n",
    "#     # start a dictionary to store this item's data\n",
    "#     result = {}\n",
    "    \n",
    "#     # get the title and full link/url\n",
    "#     a_href = element.find('a')\n",
    "#     print(a_href)\n",
    "#     if a_href:\n",
    "#         result['title'] = a_href.text   # element text\n",
    "#         result['link'] = a_href['href'] # href link\n",
    "        "
   ]
  },
  {
   "cell_type": "code",
   "execution_count": 1,
   "metadata": {
    "collapsed": true
   },
   "outputs": [],
   "source": [
    "# results_list"
   ]
  },
  {
   "cell_type": "code",
   "execution_count": 12,
   "metadata": {
    "collapsed": false
   },
   "outputs": [
    {
     "name": "stdout",
     "output_type": "stream",
     "text": [
      "200\n"
     ]
    }
   ],
   "source": [
    "\n",
    "# You'll need the requests library in order to fully utilize bs4.\n",
    "import requests\n",
    "from bs4 import BeautifulSoup\n",
    "\n",
    "# Target web page:\n",
    "url = \"http://animerulezzz.org/?ttl=&t=Download/view&p=AnimeManga/One%20Piece/Series&lang=en\"\n",
    "\n",
    "# Establishing the connection to the web page:\n",
    "response = requests.get(url)\n",
    "\n",
    "# You can use status codes to understand how the target server responds to your request.\n",
    "# Ex., 200 = OK, 400 = Bad Request, 403 = Forbidden, 404 = Not Found.\n",
    "print(response.status_code)\n",
    "\n",
    "# Pull the HTML string out of requests and convert it to a Python string.\n",
    "html = response.text\n",
    "\n",
    "# The first 700 characters of the content.\n",
    "#print(html)\n",
    "\n"
   ]
  },
  {
   "cell_type": "code",
   "execution_count": 13,
   "metadata": {
    "collapsed": true
   },
   "outputs": [],
   "source": [
    "soup = BeautifulSoup(html, 'lxml')"
   ]
  },
  {
   "cell_type": "code",
   "execution_count": 14,
   "metadata": {
    "collapsed": true
   },
   "outputs": [],
   "source": [
    "# List to store results\n",
    "results_list = []\n",
    "\n",
    "# Get all the <td class=\"title\"... elements\n",
    "all_td = soup.find_all('td', {'class':'dl'})"
   ]
  },
  {
   "cell_type": "code",
   "execution_count": 15,
   "metadata": {
    "collapsed": false
   },
   "outputs": [
    {
     "data": {
      "text/plain": [
       "2508"
      ]
     },
     "execution_count": 15,
     "metadata": {},
     "output_type": "execute_result"
    }
   ],
   "source": [
    "len(all_td)"
   ]
  },
  {
   "cell_type": "code",
   "execution_count": 16,
   "metadata": {
    "collapsed": true
   },
   "outputs": [],
   "source": [
    "for element in all_td:\n",
    "    # start a dictionary to store this item's data\n",
    "    result = {}\n",
    "    \n",
    "\n",
    "    \n",
    "    # get the title and full link/url\n",
    "    a_href = element.find('a')\n",
    "\n",
    "    \n",
    "    if a_href:\n",
    "        temp = a_href.text   # element text\n",
    "        if('Parent' not in temp):\n",
    "                result['ep'] = int(a_href.text.split('-')[1])   # element text\n",
    "                result['title'] = a_href.text.split('-')[2]   # element text\n",
    "                result['link'] = a_href['href'] # href link        \n",
    "        \n",
    "#         result['ep'] = a_href.text.split('- ')[1]   # element text\n",
    "#         result['title'] = a_href.text.split('- ')[2]   # element text\n",
    "#         result['link'] = a_href['href'] # href link\n",
    "    \n",
    "    \n",
    "#     # get the url domain\n",
    "#     span = element.find('span', {'class':'comhead'})\n",
    "#     if span:\n",
    "#         result['url'] = span.text.strip()[1:-1]\n",
    "        \n",
    "#     # only store \"full\" rows of data\n",
    "#     if len(result) == 2:\n",
    "        results_list.append(result)\n",
    "        \n"
   ]
  },
  {
   "cell_type": "code",
   "execution_count": 17,
   "metadata": {
    "collapsed": false
   },
   "outputs": [
    {
     "data": {
      "text/plain": [
       "{'ep': 1,\n",
       " 'title': \" I'm Gonna Be King of the Pirates!.mp4\",\n",
       " 'link': 'http://download.animerulezzz.org:8080/dl/AnimeManga/One Piece/Series/One%20Piece%20-%20001%20-%20I%27m%20Gonna%20Be%20King%20of%20the%20Pirates!.mp4'}"
      ]
     },
     "execution_count": 17,
     "metadata": {},
     "output_type": "execute_result"
    }
   ],
   "source": [
    "results_list[1]"
   ]
  },
  {
   "cell_type": "code",
   "execution_count": 3,
   "metadata": {
    "collapsed": true
   },
   "outputs": [],
   "source": [
    "# results_list[0]['ep']"
   ]
  },
  {
   "cell_type": "code",
   "execution_count": null,
   "metadata": {
    "collapsed": true
   },
   "outputs": [],
   "source": [
    "filter(None, results_list)"
   ]
  },
  {
   "cell_type": "code",
   "execution_count": null,
   "metadata": {
    "collapsed": true
   },
   "outputs": [],
   "source": []
  },
  {
   "cell_type": "code",
   "execution_count": 19,
   "metadata": {
    "collapsed": false
   },
   "outputs": [
    {
     "name": "stdout",
     "output_type": "stream",
     "text": [
      "One Piece - 842 - The Execution Begins! Luffy`s Allied Forces Are Annihilated?!.mkv\n"
     ]
    }
   ],
   "source": [
    "print(temp)"
   ]
  },
  {
   "cell_type": "code",
   "execution_count": 20,
   "metadata": {
    "collapsed": true
   },
   "outputs": [],
   "source": [
    "# for element in all_td:\n",
    "#     # start a dictionary to store this item's data\n",
    "#     result = {}\n",
    "    \n",
    "\n",
    "    \n",
    "#     # get the title and full link/url\n",
    "#     a_href = element.find('a')\n",
    "\n",
    "    \n",
    "#     if a_href and 'Parent' not in  a_href.text:\n",
    "#         result['title'] = a_href.text   # element text\n",
    "#         result['link'] = a_href['href'] # href link\n",
    "        \n",
    "        \n",
    "# #         result['ep'] = a_href.text.split('- ')[1]   # element text\n",
    "# #         result['title'] = a_href.text.split('- ')[2]   # element text\n",
    "# #         result['link'] = a_href['href'] # href link\n",
    "    \n",
    "    \n",
    "# #     # get the url domain\n",
    "# #     span = element.find('span', {'class':'comhead'})\n",
    "# #     if span:\n",
    "# #         result['url'] = span.text.strip()[1:-1]\n",
    "        \n",
    "# #     # only store \"full\" rows of data\n",
    "# #     if len(result) == 2:\n",
    "#         results_list.append(result)\n",
    "        \n",
    "# results_list[0][\"title\"]"
   ]
  },
  {
   "cell_type": "code",
   "execution_count": 21,
   "metadata": {
    "collapsed": true
   },
   "outputs": [],
   "source": [
    "# results_list[1]['title'].split('- ')[1]\n",
    "# results_list[1]['title'].split('- ')[2]"
   ]
  },
  {
   "cell_type": "code",
   "execution_count": 22,
   "metadata": {
    "collapsed": true
   },
   "outputs": [],
   "source": [
    "import pandas as pd\n"
   ]
  },
  {
   "cell_type": "code",
   "execution_count": 23,
   "metadata": {
    "collapsed": true
   },
   "outputs": [],
   "source": [
    "\n",
    "\n",
    "import pandas as pd\n",
    "\n",
    "df = pd.DataFrame(results_list)\n",
    "\n"
   ]
  },
  {
   "cell_type": "code",
   "execution_count": 24,
   "metadata": {
    "collapsed": false
   },
   "outputs": [
    {
     "data": {
      "text/plain": [
       "(836, 3)"
      ]
     },
     "execution_count": 24,
     "metadata": {},
     "output_type": "execute_result"
    }
   ],
   "source": [
    "df.shape"
   ]
  },
  {
   "cell_type": "code",
   "execution_count": null,
   "metadata": {
    "collapsed": true
   },
   "outputs": [],
   "source": []
  },
  {
   "cell_type": "code",
   "execution_count": 25,
   "metadata": {
    "collapsed": true
   },
   "outputs": [],
   "source": [
    "df.dropna(inplace=True)"
   ]
  },
  {
   "cell_type": "code",
   "execution_count": 30,
   "metadata": {
    "collapsed": true
   },
   "outputs": [],
   "source": [
    "df.to_csv(\"one_piece.csv\",index= False)"
   ]
  },
  {
   "cell_type": "code",
   "execution_count": 33,
   "metadata": {
    "collapsed": true
   },
   "outputs": [],
   "source": [
    "df = pd.read_csv('one_piece.csv')"
   ]
  },
  {
   "cell_type": "code",
   "execution_count": 34,
   "metadata": {
    "collapsed": false
   },
   "outputs": [
    {
     "data": {
      "text/html": [
       "<div>\n",
       "<style scoped>\n",
       "    .dataframe tbody tr th:only-of-type {\n",
       "        vertical-align: middle;\n",
       "    }\n",
       "\n",
       "    .dataframe tbody tr th {\n",
       "        vertical-align: top;\n",
       "    }\n",
       "\n",
       "    .dataframe thead th {\n",
       "        text-align: right;\n",
       "    }\n",
       "</style>\n",
       "<table border=\"1\" class=\"dataframe\">\n",
       "  <thead>\n",
       "    <tr style=\"text-align: right;\">\n",
       "      <th></th>\n",
       "      <th>ep</th>\n",
       "      <th>link</th>\n",
       "      <th>title</th>\n",
       "    </tr>\n",
       "  </thead>\n",
       "  <tbody>\n",
       "    <tr>\n",
       "      <th>0</th>\n",
       "      <td>1.0</td>\n",
       "      <td>http://download.animerulezzz.org:8080/dl/Anime...</td>\n",
       "      <td>I'm Gonna Be King of the Pirates!.mp4</td>\n",
       "    </tr>\n",
       "    <tr>\n",
       "      <th>1</th>\n",
       "      <td>2.0</td>\n",
       "      <td>http://download.animerulezzz.org:8080/dl/Anime...</td>\n",
       "      <td>Roronoa Zolo: Pirate Hunter.mp4</td>\n",
       "    </tr>\n",
       "    <tr>\n",
       "      <th>2</th>\n",
       "      <td>3.0</td>\n",
       "      <td>http://download.animerulezzz.org:8080/dl/Anime...</td>\n",
       "      <td>An Unlikely Pair: The Pirate and The Pirate H...</td>\n",
       "    </tr>\n",
       "    <tr>\n",
       "      <th>3</th>\n",
       "      <td>4.0</td>\n",
       "      <td>http://download.animerulezzz.org:8080/dl/Anime...</td>\n",
       "      <td>The Passing Of The Hat.mp4</td>\n",
       "    </tr>\n",
       "    <tr>\n",
       "      <th>4</th>\n",
       "      <td>5.0</td>\n",
       "      <td>http://download.animerulezzz.org:8080/dl/Anime...</td>\n",
       "      <td>The Circus Comes To Town.mp4</td>\n",
       "    </tr>\n",
       "  </tbody>\n",
       "</table>\n",
       "</div>"
      ],
      "text/plain": [
       "    ep                                               link  \\\n",
       "0  1.0  http://download.animerulezzz.org:8080/dl/Anime...   \n",
       "1  2.0  http://download.animerulezzz.org:8080/dl/Anime...   \n",
       "2  3.0  http://download.animerulezzz.org:8080/dl/Anime...   \n",
       "3  4.0  http://download.animerulezzz.org:8080/dl/Anime...   \n",
       "4  5.0  http://download.animerulezzz.org:8080/dl/Anime...   \n",
       "\n",
       "                                               title  \n",
       "0              I'm Gonna Be King of the Pirates!.mp4  \n",
       "1                    Roronoa Zolo: Pirate Hunter.mp4  \n",
       "2   An Unlikely Pair: The Pirate and The Pirate H...  \n",
       "3                         The Passing Of The Hat.mp4  \n",
       "4                       The Circus Comes To Town.mp4  "
      ]
     },
     "execution_count": 34,
     "metadata": {},
     "output_type": "execute_result"
    }
   ],
   "source": [
    "df.head()"
   ]
  },
  {
   "cell_type": "code",
   "execution_count": 35,
   "metadata": {
    "collapsed": false
   },
   "outputs": [
    {
     "data": {
      "text/plain": [
       "(833, 3)"
      ]
     },
     "execution_count": 35,
     "metadata": {},
     "output_type": "execute_result"
    }
   ],
   "source": [
    "df.shape"
   ]
  },
  {
   "cell_type": "code",
   "execution_count": 36,
   "metadata": {
    "collapsed": true
   },
   "outputs": [],
   "source": [
    "# df.reset_index(inplace=True,drop=True)"
   ]
  },
  {
   "cell_type": "code",
   "execution_count": 37,
   "metadata": {
    "collapsed": true
   },
   "outputs": [],
   "source": [
    "# df.head(200\n",
    "#        )"
   ]
  },
  {
   "cell_type": "code",
   "execution_count": 38,
   "metadata": {
    "collapsed": true
   },
   "outputs": [],
   "source": [
    "# df.ep.unique()"
   ]
  },
  {
   "cell_type": "code",
   "execution_count": 39,
   "metadata": {
    "collapsed": true
   },
   "outputs": [],
   "source": [
    "# df.ep.value_counts()[0]"
   ]
  },
  {
   "cell_type": "code",
   "execution_count": 40,
   "metadata": {
    "collapsed": true
   },
   "outputs": [],
   "source": [
    "# df.drop_duplicates(keep='first',inplace=True)"
   ]
  },
  {
   "cell_type": "code",
   "execution_count": 41,
   "metadata": {
    "collapsed": true
   },
   "outputs": [],
   "source": [
    "# len(df)"
   ]
  },
  {
   "cell_type": "code",
   "execution_count": 42,
   "metadata": {
    "collapsed": true
   },
   "outputs": [],
   "source": [
    "# df.head()"
   ]
  },
  {
   "cell_type": "code",
   "execution_count": 43,
   "metadata": {
    "collapsed": true
   },
   "outputs": [],
   "source": [
    "df.ep = df.ep.astype(int)"
   ]
  },
  {
   "cell_type": "code",
   "execution_count": 44,
   "metadata": {
    "collapsed": true
   },
   "outputs": [],
   "source": [
    "# count = 0\n",
    "\n",
    "# for i in  range(1,len(df)):\n",
    "#     if(i != df.loc[i]['ep']):\n",
    "#         print(df.loc[i])"
   ]
  },
  {
   "cell_type": "code",
   "execution_count": 45,
   "metadata": {
    "collapsed": true
   },
   "outputs": [],
   "source": [
    "# df[df.ep == 2]"
   ]
  },
  {
   "cell_type": "code",
   "execution_count": 46,
   "metadata": {
    "collapsed": true
   },
   "outputs": [],
   "source": [
    "#  df.drop_duplicates(subset='ep', keep=\"first\", inplace=True)"
   ]
  },
  {
   "cell_type": "code",
   "execution_count": 47,
   "metadata": {
    "collapsed": true
   },
   "outputs": [],
   "source": [
    "# len(df)"
   ]
  },
  {
   "cell_type": "code",
   "execution_count": 48,
   "metadata": {
    "collapsed": true
   },
   "outputs": [],
   "source": [
    "# pd.__version__"
   ]
  },
  {
   "cell_type": "code",
   "execution_count": 49,
   "metadata": {
    "collapsed": true
   },
   "outputs": [],
   "source": [
    "# dic = df.T.to_dict().values()"
   ]
  },
  {
   "cell_type": "code",
   "execution_count": 50,
   "metadata": {
    "collapsed": true
   },
   "outputs": [],
   "source": [
    "# len(dic)"
   ]
  },
  {
   "cell_type": "code",
   "execution_count": 51,
   "metadata": {
    "collapsed": true
   },
   "outputs": [],
   "source": [
    "# temp = list({v['ep']:v for v in dic}.values())"
   ]
  },
  {
   "cell_type": "code",
   "execution_count": 52,
   "metadata": {
    "collapsed": true
   },
   "outputs": [],
   "source": [
    "# clean_df = pd.DataFrame(temp)"
   ]
  },
  {
   "cell_type": "code",
   "execution_count": 53,
   "metadata": {
    "collapsed": true
   },
   "outputs": [],
   "source": [
    "# clean_df.shape"
   ]
  },
  {
   "cell_type": "code",
   "execution_count": 54,
   "metadata": {
    "collapsed": false
   },
   "outputs": [
    {
     "data": {
      "text/plain": [
       "ep        int64\n",
       "link     object\n",
       "title    object\n",
       "dtype: object"
      ]
     },
     "execution_count": 54,
     "metadata": {},
     "output_type": "execute_result"
    }
   ],
   "source": [
    "df.dtypes"
   ]
  },
  {
   "cell_type": "code",
   "execution_count": 55,
   "metadata": {
    "collapsed": false
   },
   "outputs": [
    {
     "data": {
      "text/plain": [
       "[50, 69, 216, 228, 269, 278, 492, 542, 590]"
      ]
     },
     "execution_count": 55,
     "metadata": {},
     "output_type": "execute_result"
    }
   ],
   "source": [
    "missingEps = []\n",
    "counter = 1\n",
    "test = df['ep']\n",
    "for element in test:\n",
    "    if(element != counter):\n",
    "        missingEps.append(counter)\n",
    "        counter +=1\n",
    "    counter +=1\n",
    "# update: these are not exactly missing eps. they were merged with another ep, for example: 216_217 as one ep\n",
    "missingEps"
   ]
  },
  {
   "cell_type": "code",
   "execution_count": 56,
   "metadata": {
    "collapsed": false
   },
   "outputs": [
    {
     "name": "stdout",
     "output_type": "stream",
     "text": [
      "833\n"
     ]
    }
   ],
   "source": [
    "totalEps = 842\n",
    "print(totalEps - len(missingEps))"
   ]
  },
  {
   "cell_type": "code",
   "execution_count": 57,
   "metadata": {
    "collapsed": false
   },
   "outputs": [
    {
     "data": {
      "text/plain": [
       "(833, 3)"
      ]
     },
     "execution_count": 57,
     "metadata": {},
     "output_type": "execute_result"
    }
   ],
   "source": [
    "df.shape"
   ]
  },
  {
   "cell_type": "code",
   "execution_count": null,
   "metadata": {
    "collapsed": true
   },
   "outputs": [],
   "source": []
  },
  {
   "cell_type": "code",
   "execution_count": 63,
   "metadata": {
    "collapsed": true
   },
   "outputs": [],
   "source": [
    "# url = df.iloc[0]['link']\n",
    "# video_name = df.iloc[0]['title']\n",
    "# ep = str(df.iloc[0]['ep'])\n",
    "# full_name = ep+video_name\n",
    "# # using requests\n",
    " \n",
    "# # imported the requests library\n",
    "# import requests\n",
    " \n",
    "# print (\"Downloading file:%s\" % full_name)\n",
    " \n",
    "# # download the url contents in binary format\n",
    "# r = requests.get(url)\n",
    "\n",
    "# # open method to open a file on your system and write the contents\n",
    "# with open(full_name, 'wb') as f:\n",
    "#     f.write(r.content)\n",
    " \n",
    " \n",
    "# using urllib\n",
    " \n",
    "# imported the urllib library\n",
    "# import urllib\n",
    "# print (\"Downloading file:%s\" % video_name)\n",
    " \n",
    "# # Copy a network object to a local file\n",
    "# urllib.request.urlretrieve(url, \"tutorial2.avi\")"
   ]
  },
  {
   "cell_type": "code",
   "execution_count": 64,
   "metadata": {
    "collapsed": true
   },
   "outputs": [],
   "source": [
    "def downloadEp(link, video_name, ep_number):\n",
    "    full_name = str(ep_number)+\"_\" +video_name\n",
    "    print (\"Downloading file:%s\" % full_name)\n",
    "    r = requests.get(link)\n",
    "    with open(full_name, 'wb') as f:\n",
    "        f.write(r.content)"
   ]
  },
  {
   "cell_type": "code",
   "execution_count": 65,
   "metadata": {
    "collapsed": true
   },
   "outputs": [],
   "source": [
    "def downloadAnime(df, fromEp):\n",
    "    tempDf = df.copy()\n",
    "    tempDf = tempDf[fromEp:]\n",
    "    for i in range(len(tempDf)):\n",
    "        link = tempDf.iloc[i]['link']\n",
    "        video_name = tempDf.iloc[i]['title']\n",
    "        ep_number = tempDf.iloc[i]['ep']\n",
    "        downloadEp(link, video_name, ep_number)"
   ]
  },
  {
   "cell_type": "code",
   "execution_count": 66,
   "metadata": {
    "collapsed": false,
    "scrolled": true
   },
   "outputs": [
    {
     "name": "stdout",
     "output_type": "stream",
     "text": [
      "Downloading file:177_ The Ordeal of Iron! White Barbed Death Match!.mp4\n",
      "Downloading file:178_ Bursting Slash! Zoro vs Ohm!.mp4\n",
      "Downloading file:179_ Collapsing Upper Ruins! The Quintet for the Finale!.mp4\n",
      "Downloading file:180_ Showdown in the Ancient Ruins! Sky God Eneru's Goal!.mp4\n",
      "Downloading file:181_ Ambition Towards the Endless Vearth! The Ark Maxim!.mp4\n",
      "Downloading file:182_ They Finally Clash! Pirate Luffy vs God Eneru!.mp4\n",
      "Downloading file:183_ Maxim Surfaces! Deathpiea is Activated!.mp4\n",
      "Downloading file:184_ Luffy Falls! Eneru's Judgement and Nami's Wish!.mp4\n",
      "Downloading file:185_ The Two Awaken! On the Front Lines of the Burning Love Rescue!.mp4\n",
      "Downloading file:186_ Capriccio for Despair! The Impending Doom of Sky Island!.mp4\n",
      "Downloading file:187_ Lead by a Bell's Sound! Tale of the Great Warrior and the Explorer!.mp4\n",
      "Downloading file:188_ Free From the Spell! The Great Warrior Sheads Tears!.mp4\n",
      "Downloading file:189_ Eternal Friends! The Vowed Bell Echoes Across the Mighty Seas!.mp4\n",
      "Downloading file:190_ Angel Island, Obliterated! The Horror of The Raigo's Advent!!.mp4\n",
      "Downloading file:191_ Knock Over Giant Jack! Last Hope for Escape!.mp4\n",
      "Downloading file:192_ Miracle on Skypiea! The Love Song Heard in the Clouds!.mp4\n",
      "Downloading file:193_ The Battle Ends! Proud Fantasia Echo's Far!.mp4\n",
      "Downloading file:194_ I Made it here! The Yarn the Poneglyphs Spin!.mp4\n",
      "Downloading file:195_ Off to the Blue Sea!! A Heartfelt Finale!!.mp4\n",
      "Downloading file:196_ A State of Emergency is Issued! A Notorious Pirate Ship has Infiltrated!.mp4\n",
      "Downloading file:197_ Sanji the Cook! Proving His Merit at the Marine Dining Hall!.mp4\n",
      "Downloading file:198_ Captured Zoro! Chopper's Emergency Operations!.mp4\n",
      "Downloading file:199_ The Marines Dragnet Closes In! The Second Member Captured!.mp4\n",
      "Downloading file:200_ Luffy and Sanji's Daring Rescue Mission!.mp4\n",
      "Downloading file:201_ Enter the Hot\n",
      "Downloading file:202_ Breaking Through the Siege! The Going Merry is Recovered!.mp4\n",
      "Downloading file:203_ The Pirate Ship Disappears! Fortress Battle, Round #2!.mp4\n",
      "Downloading file:204_ The Gold and Waver Recovery Operations!.mp4\n",
      "Downloading file:205_ The One Fell Swoop Plan! Jonathan's Surefire Secret Tactic!.mp4\n",
      "Downloading file:206_ Farewell, Marine Fortress! The Last Battle for Escape!.mp4\n",
      "Downloading file:207_ Great Adventure in Long Ring Long Land!.mp4\n",
      "Downloading file:208_ A Davy Back with the Foxy Pirates!.mp4\n",
      "Downloading file:209_ Round 1! One Lap of the Donut Race!.mp4\n",
      "Downloading file:210_ Silver Fox Foxy! The Merciless Interference!.mp4\n",
      "Downloading file:211_ Round 2! Shoot It into the Groggy Ring!.mp4\n",
      "Downloading file:212_ A Barrage of Red Cards in Groggy Ring!.mp4\n",
      "Downloading file:213_ Round 3! The Round\n",
      "Downloading file:214_ A Seriously Heated Race! Into the Final Round!.mp4\n",
      "Downloading file:215_216.mp4\n",
      "Downloading file:217_ The Captains Square Off! The Final Combat Round!.mp4\n",
      "Downloading file:218_ Full\n",
      "Downloading file:219_ Epic, Heated Combat! The Fateful Final Conclusion!.mp4\n",
      "Downloading file:220_ Was It Lost? Stolen? Who Are You?.mp4\n",
      "Downloading file:221_ A Mysterious Boy With a Horn and Robin's Deduction!.mp4\n",
      "Downloading file:222_ Now, Let's Get Back Our Memories! The Pirate Crew Lands On the Island!.mp4\n",
      "Downloading file:223_ Zoro Bares His Fangs! A Savage Animal Stands in the Way!.mp4\n",
      "Downloading file:224_ The Last Counterattack by the Memory Thief Who Reveals His True Colors!.mp4\n",
      "Downloading file:225_ Proud Man! Silver Fox Foxy!.mp4\n",
      "Downloading file:226_ The Guy Who’s the Closest to Invincible? And the Most Dangerous Man!.mp4\n",
      "Downloading file:227_228.mp4\n",
      "Downloading file:229_ The Dashing Sea Train and the City of Water: Water Seven!.mp4\n",
      "Downloading file:230_ Adventure in the City on the Water! Head to the Mammoth Shipbuilding Plant!.mp4\n",
      "Downloading file:231_ The Franky Family and Iceburg!.mp4\n",
      "Downloading file:232_ Galley\n",
      "Downloading file:233_ Pirate Abduction Incident! A Pirate Ship That Can Only Await Her End!.mp4\n",
      "Downloading file:234_ Rescuing Our Friend! Raid On the Franky House!.mp4\n",
      "Downloading file:235_ Big Fight Under the Moon! The Pirate Flag Flutters With Sorrow!.mp4\n",
      "Downloading file:236_ Luffy vs. Usopp! Collision of Two Men's Pride!.mp4\n",
      "Downloading file:237_ Severe Shock Hits the City of Water! Iceberg Targeted!.mp4\n",
      "Downloading file:238_ Gum\n",
      "Downloading file:239_ The Straw Hat Pirates Are the Culprits? The Protectors of the City of Water!.mp4\n",
      "Downloading file:240_ Eternal Farewell? Nico Robin: The Woman Who Draws Darkness!.mp4\n",
      "Downloading file:241_ Capture Robin! The Determination of the Straw Hats!.mp4\n",
      "Downloading file:242_ Cannon Fire Is the Signal! CP9 Goes Into Action!.mp4\n",
      "Downloading file:243_ CP9 Takes Off Their Masks! Their Shocking True Faces!.mp4\n",
      "Downloading file:244_ Secret Bond! Iceberg and Franky!.mp4\n",
      "Downloading file:245_ Come Back, Robin! Showdown With CP9!.mp4\n",
      "Downloading file:246_ The Straw Hat Pirates Annihilated? The Menace of the Leopard Model!.mp4\n",
      "Downloading file:247_ The Man Who Is Loved Even by His Ship! Usopp's Tears!.mp4\n",
      "Downloading file:248_ Franky's Past! The Day the Sea Train First Ran!.mp4\n",
      "Downloading file:249_ Spandam's Scheme! The Day the Sea Train Shook!.mp4\n",
      "Downloading file:250_ The End of the Legendary Man! The Day the Sea Train Cried!.mp4\n",
      "Downloading file:251_ The Truth Behind Her Betrayal! Robin's Sorrowful Decision!.mp4\n",
      "Downloading file:252_ The Steam Whistle Forces Friends Apart! The Sea Train Starts to Run!.mp4\n",
      "Downloading file:253_ Sanji Barges In! Sea Train Battle in the Storm!.mp4\n",
      "Downloading file:254_ Nami's Soul Cries Out! Straw Hat Luffy Makes a Comeback!.mp4\n",
      "Downloading file:255_ Another Sea Train? Rocketman Charges Forth!.mp4\n",
      "Downloading file:256_ Rescue Our Friends! A Bond Among Foes Sworn with Fists!.mp4\n",
      "Downloading file:257_ Smash the Wave! Luffy and Zoro Use the Strongest Combo!.mp4\n",
      "Downloading file:258_ A Mysterious Man Appears?! His Name Is Sniperking!.mp4\n",
      "Downloading file:259_ Showdown Between Cooks! Sanji vs. Ramen Kenpo.mp4\n",
      "Downloading file:260_ Rooftop Duel! Franky vs. Nero.mp4\n",
      "Downloading file:261_ Clash! Demon\n",
      "Downloading file:262_ Scramble over Robin! A Cunning Plan by Sniperking!!.mp4\n",
      "Downloading file:263_ The Judicial Island! Full View of Enies Lobby!.mp4\n",
      "Downloading file:264_ Landing Operations Start! Charge in, Straw Hats!.mp4\n",
      "Downloading file:265_ Luffy Cuts Through! Big Showdown on the Judicial Island!.mp4\n",
      "Downloading file:266_ Battle Against Giants! Open the Second Gate!.mp4\n",
      "Downloading file:267_ Find a Way Out! Rocketman Takes Flight!.mp4\n",
      "Downloading file:268_269.mp4\n",
      "Downloading file:270_ Give Robin Back! Luffy vs. Blueno!.mp4\n",
      "Downloading file:271_ Don’t Stop! Hoist the Counterattack Signal!.mp4\n",
      "Downloading file:272_ Almost to Luffy! Gather at the Courthouse Plaza!.mp4\n",
      "Downloading file:273_ Everything is to Protect My Friends! Second Gear Activated!.mp4\n",
      "Downloading file:274_ Give us your answer, Robin! The Straw Hats' Outcry!.mp4\n",
      "Downloading file:275_ Robin's Past! The Girl was called a Devil!.mp4\n",
      "Downloading file:276_ Fated Mother and Daughter! The Mother's Name is Olvia!.mp4\n",
      "Downloading file:277_278.mp4\n",
      "Downloading file:279_ Jump Towards the Falls! Luffy's Feelings!.mp4\n",
      "Downloading file:280_ The Ways of Men! Zoro's Techniques, Usopp's Dream!.mp4\n",
      "Downloading file:281_ A Bond of Friendship Woven by Tears! Nami's World Map!.mp4\n",
      "Downloading file:282_ Parting Builds a Man's Character! Sanji and Chopper!.mp4\n",
      "Downloading file:283_ Everything is for Her Friends! Robin in the Darkness!.mp4\n",
      "Downloading file:284_ I'm Not Gonna Hand Over the Blueprints! Franky's Decision!.mp4\n",
      "Downloading file:285_ Obtain the 5 Keys! The Straw Hat Pirates vs. CP9!.mp4\n",
      "Downloading file:286_ Devil Fruit Powers! Kaku and Jabra Transform!.mp4\n",
      "Downloading file:287_ I Won't Kick Even If It Costs Me My Life! Sanji's Chivalry!.mp4\n",
      "Downloading file:288_ Fukurou's Miscalculation! My Cola is the Water of Life!.mp4\n",
      "Downloading file:289_ Zoro Busts Out a New Technique! The Sword's Name is Sniperking?.mp4\n",
      "Downloading file:290_ Uncontrollable! Chopper's Forbidden Rumble!.mp4\n",
      "Downloading file:291_ Boss Luffy Returns! Is It a Dream or Reality? Lottery Ruckus!.mp4\n",
      "Downloading file:292_ A Big Rice Cake Tossing Race at the Castle! Red Nose's Plot!.mp4\n"
     ]
    },
    {
     "ename": "KeyboardInterrupt",
     "evalue": "",
     "output_type": "error",
     "traceback": [
      "\u001b[0;31m---------------------------------------------------------------------------\u001b[0m",
      "\u001b[0;31mKeyboardInterrupt\u001b[0m                         Traceback (most recent call last)",
      "\u001b[0;32m<ipython-input-66-a1342ac4021c>\u001b[0m in \u001b[0;36m<module>\u001b[0;34m()\u001b[0m\n\u001b[0;32m----> 1\u001b[0;31m \u001b[0mdownloadAnime\u001b[0m\u001b[0;34m(\u001b[0m\u001b[0mdf\u001b[0m\u001b[0;34m,\u001b[0m\u001b[0;36m174\u001b[0m\u001b[0;34m)\u001b[0m\u001b[0;34m\u001b[0m\u001b[0m\n\u001b[0m",
      "\u001b[0;32m<ipython-input-65-e4186238fc37>\u001b[0m in \u001b[0;36mdownloadAnime\u001b[0;34m(df, fromEp)\u001b[0m\n\u001b[1;32m      6\u001b[0m         \u001b[0mvideo_name\u001b[0m \u001b[0;34m=\u001b[0m \u001b[0mtempDf\u001b[0m\u001b[0;34m.\u001b[0m\u001b[0miloc\u001b[0m\u001b[0;34m[\u001b[0m\u001b[0mi\u001b[0m\u001b[0;34m]\u001b[0m\u001b[0;34m[\u001b[0m\u001b[0;34m'title'\u001b[0m\u001b[0;34m]\u001b[0m\u001b[0;34m\u001b[0m\u001b[0m\n\u001b[1;32m      7\u001b[0m         \u001b[0mep_number\u001b[0m \u001b[0;34m=\u001b[0m \u001b[0mtempDf\u001b[0m\u001b[0;34m.\u001b[0m\u001b[0miloc\u001b[0m\u001b[0;34m[\u001b[0m\u001b[0mi\u001b[0m\u001b[0;34m]\u001b[0m\u001b[0;34m[\u001b[0m\u001b[0;34m'ep'\u001b[0m\u001b[0;34m]\u001b[0m\u001b[0;34m\u001b[0m\u001b[0m\n\u001b[0;32m----> 8\u001b[0;31m         \u001b[0mdownloadEp\u001b[0m\u001b[0;34m(\u001b[0m\u001b[0mlink\u001b[0m\u001b[0;34m,\u001b[0m \u001b[0mvideo_name\u001b[0m\u001b[0;34m,\u001b[0m \u001b[0mep_number\u001b[0m\u001b[0;34m)\u001b[0m\u001b[0;34m\u001b[0m\u001b[0m\n\u001b[0m",
      "\u001b[0;32m<ipython-input-64-5ed9bb5a81e6>\u001b[0m in \u001b[0;36mdownloadEp\u001b[0;34m(link, video_name, ep_number)\u001b[0m\n\u001b[1;32m      2\u001b[0m     \u001b[0mfull_name\u001b[0m \u001b[0;34m=\u001b[0m \u001b[0mstr\u001b[0m\u001b[0;34m(\u001b[0m\u001b[0mep_number\u001b[0m\u001b[0;34m)\u001b[0m\u001b[0;34m+\u001b[0m\u001b[0;34m\"_\"\u001b[0m \u001b[0;34m+\u001b[0m\u001b[0mvideo_name\u001b[0m\u001b[0;34m\u001b[0m\u001b[0m\n\u001b[1;32m      3\u001b[0m     \u001b[0mprint\u001b[0m \u001b[0;34m(\u001b[0m\u001b[0;34m\"Downloading file:%s\"\u001b[0m \u001b[0;34m%\u001b[0m \u001b[0mfull_name\u001b[0m\u001b[0;34m)\u001b[0m\u001b[0;34m\u001b[0m\u001b[0m\n\u001b[0;32m----> 4\u001b[0;31m     \u001b[0mr\u001b[0m \u001b[0;34m=\u001b[0m \u001b[0mrequests\u001b[0m\u001b[0;34m.\u001b[0m\u001b[0mget\u001b[0m\u001b[0;34m(\u001b[0m\u001b[0mlink\u001b[0m\u001b[0;34m)\u001b[0m\u001b[0;34m\u001b[0m\u001b[0m\n\u001b[0m\u001b[1;32m      5\u001b[0m     \u001b[0;32mwith\u001b[0m \u001b[0mopen\u001b[0m\u001b[0;34m(\u001b[0m\u001b[0mfull_name\u001b[0m\u001b[0;34m,\u001b[0m \u001b[0;34m'wb'\u001b[0m\u001b[0;34m)\u001b[0m \u001b[0;32mas\u001b[0m \u001b[0mf\u001b[0m\u001b[0;34m:\u001b[0m\u001b[0;34m\u001b[0m\u001b[0m\n\u001b[1;32m      6\u001b[0m         \u001b[0mf\u001b[0m\u001b[0;34m.\u001b[0m\u001b[0mwrite\u001b[0m\u001b[0;34m(\u001b[0m\u001b[0mr\u001b[0m\u001b[0;34m.\u001b[0m\u001b[0mcontent\u001b[0m\u001b[0;34m)\u001b[0m\u001b[0;34m\u001b[0m\u001b[0m\n",
      "\u001b[0;32m~/anaconda3/lib/python3.6/site-packages/requests/api.py\u001b[0m in \u001b[0;36mget\u001b[0;34m(url, params, **kwargs)\u001b[0m\n\u001b[1;32m     70\u001b[0m \u001b[0;34m\u001b[0m\u001b[0m\n\u001b[1;32m     71\u001b[0m     \u001b[0mkwargs\u001b[0m\u001b[0;34m.\u001b[0m\u001b[0msetdefault\u001b[0m\u001b[0;34m(\u001b[0m\u001b[0;34m'allow_redirects'\u001b[0m\u001b[0;34m,\u001b[0m \u001b[0;32mTrue\u001b[0m\u001b[0;34m)\u001b[0m\u001b[0;34m\u001b[0m\u001b[0m\n\u001b[0;32m---> 72\u001b[0;31m     \u001b[0;32mreturn\u001b[0m \u001b[0mrequest\u001b[0m\u001b[0;34m(\u001b[0m\u001b[0;34m'get'\u001b[0m\u001b[0;34m,\u001b[0m \u001b[0murl\u001b[0m\u001b[0;34m,\u001b[0m \u001b[0mparams\u001b[0m\u001b[0;34m=\u001b[0m\u001b[0mparams\u001b[0m\u001b[0;34m,\u001b[0m \u001b[0;34m**\u001b[0m\u001b[0mkwargs\u001b[0m\u001b[0;34m)\u001b[0m\u001b[0;34m\u001b[0m\u001b[0m\n\u001b[0m\u001b[1;32m     73\u001b[0m \u001b[0;34m\u001b[0m\u001b[0m\n\u001b[1;32m     74\u001b[0m \u001b[0;34m\u001b[0m\u001b[0m\n",
      "\u001b[0;32m~/anaconda3/lib/python3.6/site-packages/requests/api.py\u001b[0m in \u001b[0;36mrequest\u001b[0;34m(method, url, **kwargs)\u001b[0m\n\u001b[1;32m     56\u001b[0m     \u001b[0;31m# cases, and look like a memory leak in others.\u001b[0m\u001b[0;34m\u001b[0m\u001b[0;34m\u001b[0m\u001b[0m\n\u001b[1;32m     57\u001b[0m     \u001b[0;32mwith\u001b[0m \u001b[0msessions\u001b[0m\u001b[0;34m.\u001b[0m\u001b[0mSession\u001b[0m\u001b[0;34m(\u001b[0m\u001b[0;34m)\u001b[0m \u001b[0;32mas\u001b[0m \u001b[0msession\u001b[0m\u001b[0;34m:\u001b[0m\u001b[0;34m\u001b[0m\u001b[0m\n\u001b[0;32m---> 58\u001b[0;31m         \u001b[0;32mreturn\u001b[0m \u001b[0msession\u001b[0m\u001b[0;34m.\u001b[0m\u001b[0mrequest\u001b[0m\u001b[0;34m(\u001b[0m\u001b[0mmethod\u001b[0m\u001b[0;34m=\u001b[0m\u001b[0mmethod\u001b[0m\u001b[0;34m,\u001b[0m \u001b[0murl\u001b[0m\u001b[0;34m=\u001b[0m\u001b[0murl\u001b[0m\u001b[0;34m,\u001b[0m \u001b[0;34m**\u001b[0m\u001b[0mkwargs\u001b[0m\u001b[0;34m)\u001b[0m\u001b[0;34m\u001b[0m\u001b[0m\n\u001b[0m\u001b[1;32m     59\u001b[0m \u001b[0;34m\u001b[0m\u001b[0m\n\u001b[1;32m     60\u001b[0m \u001b[0;34m\u001b[0m\u001b[0m\n",
      "\u001b[0;32m~/anaconda3/lib/python3.6/site-packages/requests/sessions.py\u001b[0m in \u001b[0;36mrequest\u001b[0;34m(self, method, url, params, data, headers, cookies, files, auth, timeout, allow_redirects, proxies, hooks, stream, verify, cert, json)\u001b[0m\n\u001b[1;32m    506\u001b[0m         }\n\u001b[1;32m    507\u001b[0m         \u001b[0msend_kwargs\u001b[0m\u001b[0;34m.\u001b[0m\u001b[0mupdate\u001b[0m\u001b[0;34m(\u001b[0m\u001b[0msettings\u001b[0m\u001b[0;34m)\u001b[0m\u001b[0;34m\u001b[0m\u001b[0m\n\u001b[0;32m--> 508\u001b[0;31m         \u001b[0mresp\u001b[0m \u001b[0;34m=\u001b[0m \u001b[0mself\u001b[0m\u001b[0;34m.\u001b[0m\u001b[0msend\u001b[0m\u001b[0;34m(\u001b[0m\u001b[0mprep\u001b[0m\u001b[0;34m,\u001b[0m \u001b[0;34m**\u001b[0m\u001b[0msend_kwargs\u001b[0m\u001b[0;34m)\u001b[0m\u001b[0;34m\u001b[0m\u001b[0m\n\u001b[0m\u001b[1;32m    509\u001b[0m \u001b[0;34m\u001b[0m\u001b[0m\n\u001b[1;32m    510\u001b[0m         \u001b[0;32mreturn\u001b[0m \u001b[0mresp\u001b[0m\u001b[0;34m\u001b[0m\u001b[0m\n",
      "\u001b[0;32m~/anaconda3/lib/python3.6/site-packages/requests/sessions.py\u001b[0m in \u001b[0;36msend\u001b[0;34m(self, request, **kwargs)\u001b[0m\n\u001b[1;32m    656\u001b[0m \u001b[0;34m\u001b[0m\u001b[0m\n\u001b[1;32m    657\u001b[0m         \u001b[0;32mif\u001b[0m \u001b[0;32mnot\u001b[0m \u001b[0mstream\u001b[0m\u001b[0;34m:\u001b[0m\u001b[0;34m\u001b[0m\u001b[0m\n\u001b[0;32m--> 658\u001b[0;31m             \u001b[0mr\u001b[0m\u001b[0;34m.\u001b[0m\u001b[0mcontent\u001b[0m\u001b[0;34m\u001b[0m\u001b[0m\n\u001b[0m\u001b[1;32m    659\u001b[0m \u001b[0;34m\u001b[0m\u001b[0m\n\u001b[1;32m    660\u001b[0m         \u001b[0;32mreturn\u001b[0m \u001b[0mr\u001b[0m\u001b[0;34m\u001b[0m\u001b[0m\n",
      "\u001b[0;32m~/anaconda3/lib/python3.6/site-packages/requests/models.py\u001b[0m in \u001b[0;36mcontent\u001b[0;34m(self)\u001b[0m\n\u001b[1;32m    821\u001b[0m                 \u001b[0mself\u001b[0m\u001b[0;34m.\u001b[0m\u001b[0m_content\u001b[0m \u001b[0;34m=\u001b[0m \u001b[0;32mNone\u001b[0m\u001b[0;34m\u001b[0m\u001b[0m\n\u001b[1;32m    822\u001b[0m             \u001b[0;32melse\u001b[0m\u001b[0;34m:\u001b[0m\u001b[0;34m\u001b[0m\u001b[0m\n\u001b[0;32m--> 823\u001b[0;31m                 \u001b[0mself\u001b[0m\u001b[0;34m.\u001b[0m\u001b[0m_content\u001b[0m \u001b[0;34m=\u001b[0m \u001b[0mbytes\u001b[0m\u001b[0;34m(\u001b[0m\u001b[0;34m)\u001b[0m\u001b[0;34m.\u001b[0m\u001b[0mjoin\u001b[0m\u001b[0;34m(\u001b[0m\u001b[0mself\u001b[0m\u001b[0;34m.\u001b[0m\u001b[0miter_content\u001b[0m\u001b[0;34m(\u001b[0m\u001b[0mCONTENT_CHUNK_SIZE\u001b[0m\u001b[0;34m)\u001b[0m\u001b[0;34m)\u001b[0m \u001b[0;32mor\u001b[0m \u001b[0mbytes\u001b[0m\u001b[0;34m(\u001b[0m\u001b[0;34m)\u001b[0m\u001b[0;34m\u001b[0m\u001b[0m\n\u001b[0m\u001b[1;32m    824\u001b[0m \u001b[0;34m\u001b[0m\u001b[0m\n\u001b[1;32m    825\u001b[0m         \u001b[0mself\u001b[0m\u001b[0;34m.\u001b[0m\u001b[0m_content_consumed\u001b[0m \u001b[0;34m=\u001b[0m \u001b[0;32mTrue\u001b[0m\u001b[0;34m\u001b[0m\u001b[0m\n",
      "\u001b[0;32m~/anaconda3/lib/python3.6/site-packages/requests/models.py\u001b[0m in \u001b[0;36mgenerate\u001b[0;34m()\u001b[0m\n\u001b[1;32m    743\u001b[0m             \u001b[0;32mif\u001b[0m \u001b[0mhasattr\u001b[0m\u001b[0;34m(\u001b[0m\u001b[0mself\u001b[0m\u001b[0;34m.\u001b[0m\u001b[0mraw\u001b[0m\u001b[0;34m,\u001b[0m \u001b[0;34m'stream'\u001b[0m\u001b[0;34m)\u001b[0m\u001b[0;34m:\u001b[0m\u001b[0;34m\u001b[0m\u001b[0m\n\u001b[1;32m    744\u001b[0m                 \u001b[0;32mtry\u001b[0m\u001b[0;34m:\u001b[0m\u001b[0;34m\u001b[0m\u001b[0m\n\u001b[0;32m--> 745\u001b[0;31m                     \u001b[0;32mfor\u001b[0m \u001b[0mchunk\u001b[0m \u001b[0;32min\u001b[0m \u001b[0mself\u001b[0m\u001b[0;34m.\u001b[0m\u001b[0mraw\u001b[0m\u001b[0;34m.\u001b[0m\u001b[0mstream\u001b[0m\u001b[0;34m(\u001b[0m\u001b[0mchunk_size\u001b[0m\u001b[0;34m,\u001b[0m \u001b[0mdecode_content\u001b[0m\u001b[0;34m=\u001b[0m\u001b[0;32mTrue\u001b[0m\u001b[0;34m)\u001b[0m\u001b[0;34m:\u001b[0m\u001b[0;34m\u001b[0m\u001b[0m\n\u001b[0m\u001b[1;32m    746\u001b[0m                         \u001b[0;32myield\u001b[0m \u001b[0mchunk\u001b[0m\u001b[0;34m\u001b[0m\u001b[0m\n\u001b[1;32m    747\u001b[0m                 \u001b[0;32mexcept\u001b[0m \u001b[0mProtocolError\u001b[0m \u001b[0;32mas\u001b[0m \u001b[0me\u001b[0m\u001b[0;34m:\u001b[0m\u001b[0;34m\u001b[0m\u001b[0m\n",
      "\u001b[0;32m~/anaconda3/lib/python3.6/site-packages/urllib3/response.py\u001b[0m in \u001b[0;36mstream\u001b[0;34m(self, amt, decode_content)\u001b[0m\n\u001b[1;32m    434\u001b[0m         \u001b[0;32melse\u001b[0m\u001b[0;34m:\u001b[0m\u001b[0;34m\u001b[0m\u001b[0m\n\u001b[1;32m    435\u001b[0m             \u001b[0;32mwhile\u001b[0m \u001b[0;32mnot\u001b[0m \u001b[0mis_fp_closed\u001b[0m\u001b[0;34m(\u001b[0m\u001b[0mself\u001b[0m\u001b[0;34m.\u001b[0m\u001b[0m_fp\u001b[0m\u001b[0;34m)\u001b[0m\u001b[0;34m:\u001b[0m\u001b[0;34m\u001b[0m\u001b[0m\n\u001b[0;32m--> 436\u001b[0;31m                 \u001b[0mdata\u001b[0m \u001b[0;34m=\u001b[0m \u001b[0mself\u001b[0m\u001b[0;34m.\u001b[0m\u001b[0mread\u001b[0m\u001b[0;34m(\u001b[0m\u001b[0mamt\u001b[0m\u001b[0;34m=\u001b[0m\u001b[0mamt\u001b[0m\u001b[0;34m,\u001b[0m \u001b[0mdecode_content\u001b[0m\u001b[0;34m=\u001b[0m\u001b[0mdecode_content\u001b[0m\u001b[0;34m)\u001b[0m\u001b[0;34m\u001b[0m\u001b[0m\n\u001b[0m\u001b[1;32m    437\u001b[0m \u001b[0;34m\u001b[0m\u001b[0m\n\u001b[1;32m    438\u001b[0m                 \u001b[0;32mif\u001b[0m \u001b[0mdata\u001b[0m\u001b[0;34m:\u001b[0m\u001b[0;34m\u001b[0m\u001b[0m\n",
      "\u001b[0;32m~/anaconda3/lib/python3.6/site-packages/urllib3/response.py\u001b[0m in \u001b[0;36mread\u001b[0;34m(self, amt, decode_content, cache_content)\u001b[0m\n\u001b[1;32m    382\u001b[0m             \u001b[0;32melse\u001b[0m\u001b[0;34m:\u001b[0m\u001b[0;34m\u001b[0m\u001b[0m\n\u001b[1;32m    383\u001b[0m                 \u001b[0mcache_content\u001b[0m \u001b[0;34m=\u001b[0m \u001b[0;32mFalse\u001b[0m\u001b[0;34m\u001b[0m\u001b[0m\n\u001b[0;32m--> 384\u001b[0;31m                 \u001b[0mdata\u001b[0m \u001b[0;34m=\u001b[0m \u001b[0mself\u001b[0m\u001b[0;34m.\u001b[0m\u001b[0m_fp\u001b[0m\u001b[0;34m.\u001b[0m\u001b[0mread\u001b[0m\u001b[0;34m(\u001b[0m\u001b[0mamt\u001b[0m\u001b[0;34m)\u001b[0m\u001b[0;34m\u001b[0m\u001b[0m\n\u001b[0m\u001b[1;32m    385\u001b[0m                 \u001b[0;32mif\u001b[0m \u001b[0mamt\u001b[0m \u001b[0;34m!=\u001b[0m \u001b[0;36m0\u001b[0m \u001b[0;32mand\u001b[0m \u001b[0;32mnot\u001b[0m \u001b[0mdata\u001b[0m\u001b[0;34m:\u001b[0m  \u001b[0;31m# Platform-specific: Buggy versions of Python.\u001b[0m\u001b[0;34m\u001b[0m\u001b[0m\n\u001b[1;32m    386\u001b[0m                     \u001b[0;31m# Close the connection when no data is returned\u001b[0m\u001b[0;34m\u001b[0m\u001b[0;34m\u001b[0m\u001b[0m\n",
      "\u001b[0;32m~/anaconda3/lib/python3.6/http/client.py\u001b[0m in \u001b[0;36mread\u001b[0;34m(self, amt)\u001b[0m\n\u001b[1;32m    447\u001b[0m             \u001b[0;31m# Amount is given, implement using readinto\u001b[0m\u001b[0;34m\u001b[0m\u001b[0;34m\u001b[0m\u001b[0m\n\u001b[1;32m    448\u001b[0m             \u001b[0mb\u001b[0m \u001b[0;34m=\u001b[0m \u001b[0mbytearray\u001b[0m\u001b[0;34m(\u001b[0m\u001b[0mamt\u001b[0m\u001b[0;34m)\u001b[0m\u001b[0;34m\u001b[0m\u001b[0m\n\u001b[0;32m--> 449\u001b[0;31m             \u001b[0mn\u001b[0m \u001b[0;34m=\u001b[0m \u001b[0mself\u001b[0m\u001b[0;34m.\u001b[0m\u001b[0mreadinto\u001b[0m\u001b[0;34m(\u001b[0m\u001b[0mb\u001b[0m\u001b[0;34m)\u001b[0m\u001b[0;34m\u001b[0m\u001b[0m\n\u001b[0m\u001b[1;32m    450\u001b[0m             \u001b[0;32mreturn\u001b[0m \u001b[0mmemoryview\u001b[0m\u001b[0;34m(\u001b[0m\u001b[0mb\u001b[0m\u001b[0;34m)\u001b[0m\u001b[0;34m[\u001b[0m\u001b[0;34m:\u001b[0m\u001b[0mn\u001b[0m\u001b[0;34m]\u001b[0m\u001b[0;34m.\u001b[0m\u001b[0mtobytes\u001b[0m\u001b[0;34m(\u001b[0m\u001b[0;34m)\u001b[0m\u001b[0;34m\u001b[0m\u001b[0m\n\u001b[1;32m    451\u001b[0m         \u001b[0;32melse\u001b[0m\u001b[0;34m:\u001b[0m\u001b[0;34m\u001b[0m\u001b[0m\n",
      "\u001b[0;32m~/anaconda3/lib/python3.6/http/client.py\u001b[0m in \u001b[0;36mreadinto\u001b[0;34m(self, b)\u001b[0m\n\u001b[1;32m    491\u001b[0m         \u001b[0;31m# connection, and the user is reading more bytes than will be provided\u001b[0m\u001b[0;34m\u001b[0m\u001b[0;34m\u001b[0m\u001b[0m\n\u001b[1;32m    492\u001b[0m         \u001b[0;31m# (for example, reading in 1k chunks)\u001b[0m\u001b[0;34m\u001b[0m\u001b[0;34m\u001b[0m\u001b[0m\n\u001b[0;32m--> 493\u001b[0;31m         \u001b[0mn\u001b[0m \u001b[0;34m=\u001b[0m \u001b[0mself\u001b[0m\u001b[0;34m.\u001b[0m\u001b[0mfp\u001b[0m\u001b[0;34m.\u001b[0m\u001b[0mreadinto\u001b[0m\u001b[0;34m(\u001b[0m\u001b[0mb\u001b[0m\u001b[0;34m)\u001b[0m\u001b[0;34m\u001b[0m\u001b[0m\n\u001b[0m\u001b[1;32m    494\u001b[0m         \u001b[0;32mif\u001b[0m \u001b[0;32mnot\u001b[0m \u001b[0mn\u001b[0m \u001b[0;32mand\u001b[0m \u001b[0mb\u001b[0m\u001b[0;34m:\u001b[0m\u001b[0;34m\u001b[0m\u001b[0m\n\u001b[1;32m    495\u001b[0m             \u001b[0;31m# Ideally, we would raise IncompleteRead if the content-length\u001b[0m\u001b[0;34m\u001b[0m\u001b[0;34m\u001b[0m\u001b[0m\n",
      "\u001b[0;32m~/anaconda3/lib/python3.6/socket.py\u001b[0m in \u001b[0;36mreadinto\u001b[0;34m(self, b)\u001b[0m\n\u001b[1;32m    584\u001b[0m         \u001b[0;32mwhile\u001b[0m \u001b[0;32mTrue\u001b[0m\u001b[0;34m:\u001b[0m\u001b[0;34m\u001b[0m\u001b[0m\n\u001b[1;32m    585\u001b[0m             \u001b[0;32mtry\u001b[0m\u001b[0;34m:\u001b[0m\u001b[0;34m\u001b[0m\u001b[0m\n\u001b[0;32m--> 586\u001b[0;31m                 \u001b[0;32mreturn\u001b[0m \u001b[0mself\u001b[0m\u001b[0;34m.\u001b[0m\u001b[0m_sock\u001b[0m\u001b[0;34m.\u001b[0m\u001b[0mrecv_into\u001b[0m\u001b[0;34m(\u001b[0m\u001b[0mb\u001b[0m\u001b[0;34m)\u001b[0m\u001b[0;34m\u001b[0m\u001b[0m\n\u001b[0m\u001b[1;32m    587\u001b[0m             \u001b[0;32mexcept\u001b[0m \u001b[0mtimeout\u001b[0m\u001b[0;34m:\u001b[0m\u001b[0;34m\u001b[0m\u001b[0m\n\u001b[1;32m    588\u001b[0m                 \u001b[0mself\u001b[0m\u001b[0;34m.\u001b[0m\u001b[0m_timeout_occurred\u001b[0m \u001b[0;34m=\u001b[0m \u001b[0;32mTrue\u001b[0m\u001b[0;34m\u001b[0m\u001b[0m\n",
      "\u001b[0;31mKeyboardInterrupt\u001b[0m: "
     ]
    }
   ],
   "source": [
    "downloadAnime(df,174)"
   ]
  },
  {
   "cell_type": "code",
   "execution_count": null,
   "metadata": {
    "collapsed": true
   },
   "outputs": [],
   "source": []
  }
 ],
 "metadata": {
  "kernelspec": {
   "display_name": "Python 3",
   "language": "python",
   "name": "python3"
  },
  "language_info": {
   "codemirror_mode": {
    "name": "ipython",
    "version": 3
   },
   "file_extension": ".py",
   "mimetype": "text/x-python",
   "name": "python",
   "nbconvert_exporter": "python",
   "pygments_lexer": "ipython3",
   "version": "3.6.7"
  }
 },
 "nbformat": 4,
 "nbformat_minor": 2
}
